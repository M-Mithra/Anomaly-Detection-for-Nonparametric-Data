{
  "nbformat": 4,
  "nbformat_minor": 0,
  "metadata": {
    "colab": {
      "provenance": []
    },
    "kernelspec": {
      "name": "python3",
      "display_name": "Python 3"
    },
    "language_info": {
      "name": "python"
    }
  },
  "cells": [
    {
      "cell_type": "markdown",
      "source": [
        "IMPORT LIBRARIES"
      ],
      "metadata": {
        "id": "ueFC6U30iu3E"
      }
    },
    {
      "cell_type": "code",
      "execution_count": null,
      "metadata": {
        "id": "dChxNnbBh2-C"
      },
      "outputs": [],
      "source": [
        "import os\n",
        "import numpy as np\n",
        "import pandas as pd\n",
        "import matplotlib.pyplot as plt\n",
        "from tqdm import trange"
      ]
    },
    {
      "cell_type": "markdown",
      "source": [
        "PROBLEM PARAMETERS"
      ],
      "metadata": {
        "id": "3LKmYKHUi2C7"
      }
    },
    {
      "cell_type": "code",
      "source": [
        "# SETTINGS\n",
        "S = 5\n",
        "num_trials = 5000\n",
        "batch_size = 100\n",
        "max_steps = 10000\n",
        "sigma = np.sqrt(0.5)\n",
        "C_values_alpha_1 = [0.5,0.6,0.7,0.8,0.9,1,1.5]\n",
        "C_values_alpha_05 = [0.5,0.6,0.7,0.8,0.9,1,1.5]\n",
        "C_values_alpha_2 = [0.5,0.6,0.7,0.8,0.9,1,1.5]\n",
        "alphas = [1.0,0.5,2]\n",
        "anomaly_type = 'normal'  # replace with whatever the distribution we want to test and also make sure to add that distribution definition in the sample funciton"
      ],
      "metadata": {
        "id": "t1HQU-aQjKoJ"
      },
      "execution_count": null,
      "outputs": []
    },
    {
      "cell_type": "markdown",
      "source": [
        "COMPUTE MMD2"
      ],
      "metadata": {
        "id": "gMjX2_OOjQSF"
      }
    },
    {
      "cell_type": "code",
      "source": [
        "def compute_mmd2_fast(x, y, sigma):\n",
        "    x = np.asarray(x).reshape(-1, 1)\n",
        "    y = np.asarray(y).reshape(-1, 1)\n",
        "    n = len(x)\n",
        "    m = len(y)\n",
        "    if n < 2 or m < 2:\n",
        "        return 0.0\n",
        "    Kxx = np.exp(-((x - x.T) ** 2) / (2 * sigma ** 2))\n",
        "    Kyy = np.exp(-((y - y.T) ** 2) / (2 * sigma ** 2))\n",
        "    Kxy = np.exp(-((x - y.T) ** 2) / (2 * sigma ** 2))\n",
        "    np.fill_diagonal(Kxx, 0)\n",
        "    np.fill_diagonal(Kyy, 0)\n",
        "    return (np.sum(Kxx) / (n * (n - 1)) +\n",
        "            np.sum(Kyy) / (m * (m - 1)) -\n",
        "            2 * np.sum(Kxy) / (n * m))"
      ],
      "metadata": {
        "id": "lp3Ec76ojWty"
      },
      "execution_count": null,
      "outputs": []
    },
    {
      "cell_type": "markdown",
      "source": [
        "GENERATE SAMPLES IN SEQUENCE"
      ],
      "metadata": {
        "id": "8ve6o5QvjYDe"
      }
    },
    {
      "cell_type": "code",
      "source": [
        "#functions for generating samples in sequences\n",
        "def sample_p(n): return np.random.normal(0, 1, n)\n",
        "def sample_q(n):\n",
        "    if anomaly_type == 'normal':\n",
        "        return np.random.normal(1.2, 1, n)\n",
        "    elif anomaly_type == 'laplace':\n",
        "        return np.random.laplace(0, 1/np.sqrt(2), n)\n",
        "    else:\n",
        "        raise ValueError(\"Unknown anomaly_type.\")"
      ],
      "metadata": {
        "id": "djamzkbgjcqA"
      },
      "execution_count": null,
      "outputs": []
    },
    {
      "cell_type": "markdown",
      "source": [
        "TEST FUNCTION"
      ],
      "metadata": {
        "id": "rcLbgWIrjdZb"
      }
    },
    {
      "cell_type": "code",
      "source": [
        "#test function\n",
        "def np_seq_test(alpha, C, num_trials, max_steps, batch_size):\n",
        "    batch_results = []\n",
        "    stop_times, errors, thresholds, mmds = [], [], [], []\n",
        "    for trial in trange(num_trials, desc=f\"\\u03B1={alpha}, C={C}\"):\n",
        "        anomaly_idx = np.random.randint(S)\n",
        "        streams = [[] for _ in range(S)]\n",
        "        trial_thresholds = []\n",
        "        stopped = False\n",
        "        for n in range(2, max_steps):\n",
        "            for i in range(S):\n",
        "                x = sample_q(1) if i == anomaly_idx else sample_p(1)\n",
        "                streams[i].append(x)\n",
        "            mmd_vals = np.zeros(S)\n",
        "            for i in range(S):\n",
        "                others = [streams[j] for j in range(S) if j != i]\n",
        "                flat_others = np.concatenate(others)\n",
        "                mmd_vals[i] = compute_mmd2_fast(streams[i], flat_others, sigma)\n",
        "            candidate = np.argmax(mmd_vals)\n",
        "            gamma_n = mmd_vals[candidate]\n",
        "            threshold = C / (n ** alpha)\n",
        "            trial_thresholds.append(round(float(threshold), 4))\n",
        "            if gamma_n > threshold:\n",
        "                stop_times.append(n)\n",
        "                errors.append(0 if candidate == anomaly_idx else 1)\n",
        "                thresholds.append(round(float(threshold), 4))\n",
        "                mmds.append(round(float(gamma_n), 4))\n",
        "                stopped = True\n",
        "                break\n",
        "        if not stopped:\n",
        "            stop_times.append(max_steps)\n",
        "            errors.append(1)\n",
        "            thresholds.append(round(float(trial_thresholds[-1]), 4) if trial_thresholds else None)\n",
        "            mmds.append(round(float(gamma_n), 4) if mmds else None)\n",
        "\n",
        "        # Store batch results every 'batch_size' trials or at the end\n",
        "        if ((trial + 1) % batch_size == 0) or (trial + 1 == num_trials):\n",
        "            batch_start = trial + 2 - batch_size if (trial + 1) % batch_size == 0 else (trial + 1) - ((trial + 1) % batch_size) + 1\n",
        "            batch_end = trial + 1\n",
        "            batch_stop_times = stop_times[-batch_size:]\n",
        "            batch_errors = errors[-batch_size:]\n",
        "            batch_thresholds = thresholds[-batch_size:]\n",
        "            batch_mmds = mmds[-batch_size:]\n",
        "            pmax = max(np.mean(batch_errors), 1e-8) #here i took 1e-8, can we go still lesser value?.. probably if we want to enter into greater regime.. can go till 1e-12\n",
        "            mean_time = np.mean(batch_stop_times)\n",
        "            log_pmax = np.log10(1 / pmax)\n",
        "            avg_mmd_batch = np.mean([x for x in batch_mmds if x is not None])\n",
        "            batch_results.append({\n",
        "                'alpha': alpha,\n",
        "                'C': C,\n",
        "                'trial_range': f\"{batch_start}-{batch_end}\",\n",
        "                '-log10_pmax': round(log_pmax, 4),\n",
        "                'E[N]': round(mean_time, 4),\n",
        "                'mmd_list': batch_mmds,\n",
        "                'avg_mmd_batch': round(avg_mmd_batch, 4),\n",
        "                'avg_mmd_all': '',  # to be filled in average row\n",
        "                'Tn_list': batch_thresholds\n",
        "            })\n",
        "    # Compute averages for all trials for this (alpha, C)\n",
        "    avg_logpmax = np.log10(1 / max(np.mean(errors), 1e-8))\n",
        "    avg_en = np.mean(stop_times)\n",
        "    avg_mmd_all = np.mean([x for x in mmds if x is not None])\n",
        "    return batch_results, avg_logpmax, avg_en, avg_mmd_all"
      ],
      "metadata": {
        "id": "xOwjMw3bjhlX"
      },
      "execution_count": null,
      "outputs": []
    },
    {
      "cell_type": "markdown",
      "source": [
        "SAVING THE FOLDER"
      ],
      "metadata": {
        "id": "5SiU81W8jlrH"
      }
    },
    {
      "cell_type": "code",
      "source": [
        "# ask user for filename\n",
        "filename_base = input(\"Enter the base folder/filename to save results (no extension): \").strip()\n",
        "if not os.path.exists(filename_base):\n",
        "    os.makedirs(filename_base)"
      ],
      "metadata": {
        "id": "Uvk6J5LcjoB1"
      },
      "execution_count": null,
      "outputs": []
    },
    {
      "cell_type": "markdown",
      "source": [
        "SIMULATE THE DATA"
      ],
      "metadata": {
        "id": "2uN0UPmjjr1m"
      }
    },
    {
      "cell_type": "code",
      "source": [
        "# simulate and save data\n",
        "all_results = []\n",
        "plot_points = []\n",
        "for alpha in alphas:\n",
        "    if alpha == 1.0:\n",
        "        C_vals = C_values_alpha_1\n",
        "    elif alpha == 0.5:\n",
        "        C_vals = C_values_alpha_05\n",
        "    elif alpha == 2.0:\n",
        "        C_vals = C_values_alpha_2\n",
        "    else:\n",
        "        C_vals = []\n",
        "    for C in C_vals:\n",
        "        batch_results, avg_logpmax, avg_en, avg_mmd_all = np_seq_test(alpha, C, num_trials, max_steps, batch_size)\n",
        "        all_results.extend(batch_results)\n",
        "        # add average row for this (alpha, C)\n",
        "        all_results.append({\n",
        "            'alpha': alpha,\n",
        "            'C': C,\n",
        "            'trial_range': 'AVERAGE',\n",
        "            '-log10_pmax': round(avg_logpmax, 4),\n",
        "            'E[N]': round(avg_en, 4),\n",
        "            'mmd_list': '',\n",
        "            'avg_mmd_batch': '',\n",
        "            'avg_mmd_all': round(avg_mmd_all, 4),\n",
        "            'Tn_list': ''\n",
        "        })\n",
        "        # add blank row\n",
        "        all_results.append({\n",
        "            'alpha': '',\n",
        "            'C': '',\n",
        "            'trial_range': '',\n",
        "            '-log10_pmax': '',\n",
        "            'E[N]': '',\n",
        "            'mmd_list': '',\n",
        "            'avg_mmd_batch': '',\n",
        "            'avg_mmd_all': '',\n",
        "            'Tn_list': ''\n",
        "        })\n",
        "        # for plotting: use the average over all trials\n",
        "        plot_points.append((alpha, C, avg_logpmax, avg_en))"
      ],
      "metadata": {
        "id": "OqDpt3HPjzjo"
      },
      "execution_count": null,
      "outputs": []
    },
    {
      "cell_type": "markdown",
      "source": [
        "SAVE RESULTS TO EXCEL"
      ],
      "metadata": {
        "id": "hgz8V3TSj6R1"
      }
    },
    {
      "cell_type": "code",
      "source": [
        "# save results to Excel\n",
        "results_df = pd.DataFrame(all_results)\n",
        "excel_filename = f\"{filename_base}/{filename_base}.xlsx\"\n",
        "results_df.to_excel(excel_filename, index=False)\n",
        "print(f\"\\nSaved results to {excel_filename}\")\n",
        "print(results_df.head())"
      ],
      "metadata": {
        "id": "WLknp0Dij3Iy"
      },
      "execution_count": null,
      "outputs": []
    },
    {
      "cell_type": "markdown",
      "source": [
        "PLOTTING THE RESULTS"
      ],
      "metadata": {
        "id": "Q0mMWvZvj8Zy"
      }
    },
    {
      "cell_type": "code",
      "source": [
        "# plot results: one point per (alpha, C), using the average over all trials\n",
        "plt.figure(figsize=(7, 5))\n",
        "markers = {1.0: 'o', 0.5: 's', 2.0: '^'}\n",
        "for alpha in alphas:\n",
        "    xs = [logp for a, c, logp, en in plot_points if a == alpha]\n",
        "    ys = [en for a, c, logp, en in plot_points if a == alpha]\n",
        "    plt.plot(xs, ys, marker=markers[alpha], label=f'NP-SEQ($\\\\alpha={alpha}$)')\n",
        "plt.xlabel(r\"$-\\log_{10} P_{\\max}$\", fontsize=13)\n",
        "plt.ylabel(r\"$\\mathbb{E}[N]$\", fontsize=13)\n",
        "plt.title(r\"NP-SEQ: $-\\log_{10} P_{\\max}$ vs $\\mathbb{E}[N]$\" +\n",
        "          (r\" ($\\mathcal{N}(1.2,1)$ anomaly)\" if anomaly_type == 'normal' else r\" (Laplace anomaly)\"),\n",
        "          fontsize=14)\n",
        "plt.grid(True)\n",
        "plt.legend()\n",
        "plt.tight_layout()\n",
        "plot_filename = f\"{filename_base}/{filename_base}.png\"\n",
        "plt.savefig(plot_filename)\n",
        "plt.show()\n",
        "print(f\"Saved plot to {plot_filename}\")"
      ],
      "metadata": {
        "id": "IqTuTdO0kAqa"
      },
      "execution_count": null,
      "outputs": []
    }
  ]
}